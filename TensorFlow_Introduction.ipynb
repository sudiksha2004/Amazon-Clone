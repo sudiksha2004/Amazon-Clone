{
  "nbformat": 4,
  "nbformat_minor": 0,
  "metadata": {
    "colab": {
      "provenance": [],
      "authorship_tag": "ABX9TyOuTPW1KMQCO77iE7t+BkoE",
      "include_colab_link": true
    },
    "kernelspec": {
      "name": "python3",
      "display_name": "Python 3"
    },
    "language_info": {
      "name": "python"
    }
  },
  "cells": [
    {
      "cell_type": "markdown",
      "metadata": {
        "id": "view-in-github",
        "colab_type": "text"
      },
      "source": [
        "<a href=\"https://colab.research.google.com/github/sudiksha2004/Amazon-Clone/blob/main/TensorFlow_Introduction.ipynb\" target=\"_parent\"><img src=\"https://colab.research.google.com/assets/colab-badge.svg\" alt=\"Open In Colab\"/></a>"
      ]
    },
    {
      "cell_type": "code",
      "execution_count": null,
      "metadata": {
        "colab": {
          "base_uri": "https://localhost:8080/"
        },
        "id": "EKCjrh0IcdKJ",
        "outputId": "8e7aee3a-0a90-4120-ae40-bfbb7a9a20c0"
      },
      "outputs": [
        {
          "output_type": "stream",
          "name": "stdout",
          "text": [
            "Colab only includes TensorFlow 2.x; %tensorflow_version has no effect.\n"
          ]
        }
      ],
      "source": [
        "%tensorflow_version 2.x #this line is not required unles yhou are in a notebook"
      ]
    },
    {
      "cell_type": "code",
      "source": [
        "import tensorflow as tf\n",
        "print(tf.version)"
      ],
      "metadata": {
        "colab": {
          "base_uri": "https://localhost:8080/"
        },
        "id": "j3FLccxpdFG9",
        "outputId": "c2f01e5f-04f4-472a-92fc-d37ead5c5c08"
      },
      "execution_count": null,
      "outputs": [
        {
          "output_type": "stream",
          "name": "stdout",
          "text": [
            "<module 'tensorflow._api.v2.version' from '/usr/local/lib/python3.10/dist-packages/tensorflow/_api/v2/version/__init__.py'>\n"
          ]
        }
      ]
    },
    {
      "cell_type": "markdown",
      "source": [
        "\n",
        "\n",
        "> Creating Tensors\n",
        "\n",
        "Below is an example of how to ceate tensors"
      ],
      "metadata": {
        "id": "RiT1_o8vjH6k"
      }
    },
    {
      "cell_type": "code",
      "source": [
        "string = tf.Variable(\"This is a variable\",tf.string)\n",
        "number = tf.Variable(324,tf.int16)\n",
        "float = tf.Variable(3.567,tf.float64)"
      ],
      "metadata": {
        "id": "xiYJtrxsjXz4"
      },
      "execution_count": null,
      "outputs": []
    },
    {
      "cell_type": "markdown",
      "source": [
        "\n",
        "\n",
        ">Rank/Degree of Tensors\n",
        "\n",
        "Another word for rank is degree, these terms simply mean the number of dimensions involved in the tensor. What we created above is a tensor of rank 0,as they have a single value and no dimensions"
      ],
      "metadata": {
        "id": "KG_NzVn9khAH"
      }
    },
    {
      "cell_type": "code",
      "source": [
        "rank1_tensor= tf.Variable([\"Test\",\"Ok\",\"Tim\"],tf.string)\n",
        "rank2_tensor = tf.Variable([[\"Test\",\"Ok\",\"s\"],[\"test\",\"yes\",\"k\"]],tf.string)\n"
      ],
      "metadata": {
        "id": "4hTAh4BDlLzA"
      },
      "execution_count": null,
      "outputs": []
    },
    {
      "cell_type": "markdown",
      "source": [
        "To determine the rank of a tensor we can do the following method"
      ],
      "metadata": {
        "id": "IsPVpmiZmooN"
      }
    },
    {
      "cell_type": "code",
      "source": [
        "tf.rank(rank2_tensor)\n"
      ],
      "metadata": {
        "colab": {
          "base_uri": "https://localhost:8080/"
        },
        "id": "-jxuytHXoWIn",
        "outputId": "9e4c33fc-b566-4544-f63b-35f30b32e524"
      },
      "execution_count": null,
      "outputs": [
        {
          "output_type": "execute_result",
          "data": {
            "text/plain": [
              "<tf.Tensor: shape=(), dtype=int32, numpy=1>"
            ]
          },
          "metadata": {},
          "execution_count": 13
        }
      ]
    },
    {
      "cell_type": "code",
      "source": [
        "tf.rank(rank1_tensor)\n"
      ],
      "metadata": {
        "colab": {
          "base_uri": "https://localhost:8080/"
        },
        "id": "npcwj1RosLDH",
        "outputId": "b83aa5ad-2279-4bce-f232-28cd95f3ff03"
      },
      "execution_count": null,
      "outputs": [
        {
          "output_type": "execute_result",
          "data": {
            "text/plain": [
              "<tf.Tensor: shape=(), dtype=int32, numpy=1>"
            ]
          },
          "metadata": {},
          "execution_count": 14
        }
      ]
    },
    {
      "cell_type": "code",
      "source": [
        "tf.rank(number)\n"
      ],
      "metadata": {
        "colab": {
          "base_uri": "https://localhost:8080/"
        },
        "id": "yWgCa4AHsLJw",
        "outputId": "ddb30d6f-1826-4778-98a8-7177cc25095d"
      },
      "execution_count": null,
      "outputs": [
        {
          "output_type": "execute_result",
          "data": {
            "text/plain": [
              "<tf.Tensor: shape=(), dtype=int32, numpy=0>"
            ]
          },
          "metadata": {},
          "execution_count": 15
        }
      ]
    },
    {
      "cell_type": "markdown",
      "source": [
        "Shape of a tensor\n",
        "\n",
        "Shape of a tensor is simply the amount of elements that exists in each dimension.Tensorflow will try to determine the shape of tensor but sometimes it may be unknown\n",
        "\n",
        "We can use the** shape** attribute to determine the shape of a tensor"
      ],
      "metadata": {
        "id": "DDYE88BdsrLW"
      }
    },
    {
      "cell_type": "code",
      "source": [
        "rank2_tensor.shape"
      ],
      "metadata": {
        "colab": {
          "base_uri": "https://localhost:8080/"
        },
        "id": "t0DpCE56tZ42",
        "outputId": "17be8e03-e460-4f33-d762-d89e36fe85ef"
      },
      "execution_count": null,
      "outputs": [
        {
          "output_type": "execute_result",
          "data": {
            "text/plain": [
              "TensorShape([2, 3])"
            ]
          },
          "metadata": {},
          "execution_count": 21
        }
      ]
    }
  ]
}